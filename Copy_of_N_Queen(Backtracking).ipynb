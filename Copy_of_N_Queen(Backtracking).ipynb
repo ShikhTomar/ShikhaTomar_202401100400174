{
  "nbformat": 4,
  "nbformat_minor": 0,
  "metadata": {
    "colab": {
      "provenance": []
    },
    "kernelspec": {
      "name": "python3",
      "display_name": "Python 3"
    },
    "language_info": {
      "name": "python"
    }
  },
  "cells": [
    {
      "cell_type": "code",
      "execution_count": null,
      "metadata": {
        "colab": {
          "base_uri": "https://localhost:8080/"
        },
        "id": "5SMc8FX8Oksw",
        "outputId": "96440aef-28b2-419a-8002-378154efa42f"
      },
      "outputs": [
        {
          "output_type": "stream",
          "name": "stdout",
          "text": [
            "Enter the size of the chessboard (N): 9\n",
            "Solution for 9-Queens:\n",
            "\n",
            "Q . . . . . . . .\n",
            ". . Q . . . . . .\n",
            ". . . . . Q . . .\n",
            ". . . . . . . Q .\n",
            ". Q . . . . . . .\n",
            ". . . Q . . . . .\n",
            ". . . . . . . . Q\n",
            ". . . . . . Q . .\n",
            ". . . . Q . . . .\n",
            "\n",
            "\n"
          ]
        }
      ],
      "source": [
        "# Function to check if placing a queen at board[row][col] is safe\n",
        "def is_safe(board, row, col, n):\n",
        "    # Check the same column\n",
        "    for i in range(row):\n",
        "\n",
        "        if board[i][col] == 1:\n",
        "            return False\n",
        "\n",
        "    # Check upper left diagonal\n",
        "    for i, j in zip(range(row, -1, -1), range(col, -1, -1)):\n",
        "        if board[i][j] == 1:\n",
        "            return False\n",
        "\n",
        "    # Check upper right diagonal\n",
        "    for i, j in zip(range(row, -1, -1), range(col, n)):\n",
        "        if board[i][j] == 1:\n",
        "            return False\n",
        "\n",
        "    return True\n",
        "\n",
        "# Function to solve the N-Queens problem using backtracking\n",
        "def solve_n_queens(board, row, n):\n",
        "    # Base case: If all queens are placed\n",
        "    if row >= n:\n",
        "        return True\n",
        "\n",
        "    # Try placing a queen in each column of the current row\n",
        "    for col in range(n):\n",
        "        if is_safe(board, row, col, n):\n",
        "            # Place the queen\n",
        "            board[row][col] = 1\n",
        "\n",
        "            # Recur to place the rest of the queens\n",
        "            if solve_n_queens(board, row + 1, n):\n",
        "                return True\n",
        "\n",
        "            # If placing queen in board[row][col] doesn't lead to a solution, backtrack\n",
        "            board[row][col] = 0\n",
        "\n",
        "    return False\n",
        "\n",
        "# Function to print the chessboard\n",
        "def print_board(board):\n",
        "    for row in board:\n",
        "        print(\" \".join(\"Q\" if col == 1 else \".\" for col in row))\n",
        "    print(\"\\n\")\n",
        "\n",
        "# Main function to solve the problem\n",
        "def n_queens(n):\n",
        "    # Create an empty chessboard\n",
        "    board = [[0] * n for _ in range(n)]\n",
        "\n",
        "    if solve_n_queens(board, 0, n):\n",
        "        print(f\"Solution for {n}-Queens:\\n\")\n",
        "        print_board(board)\n",
        "    else:\n",
        "        print(\"No solution exists.\")\n",
        "\n",
        "# Input the size of the chessboard\n",
        "n = int(input(\"Enter the size of the chessboard (N): \"))\n",
        "n_queens(n)"
      ]
    }
  ]
}